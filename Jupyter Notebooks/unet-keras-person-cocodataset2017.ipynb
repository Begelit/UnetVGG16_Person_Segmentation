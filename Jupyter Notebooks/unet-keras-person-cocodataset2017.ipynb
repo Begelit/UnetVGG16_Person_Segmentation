{
 "cells": [
  {
   "cell_type": "code",
   "execution_count": 1,
   "id": "f39a76c0",
   "metadata": {
    "execution": {
     "iopub.execute_input": "2022-06-18T09:47:42.031586Z",
     "iopub.status.busy": "2022-06-18T09:47:42.030828Z",
     "iopub.status.idle": "2022-06-18T09:47:49.311721Z",
     "shell.execute_reply": "2022-06-18T09:47:49.310911Z"
    },
    "papermill": {
     "duration": 7.294112,
     "end_time": "2022-06-18T09:47:49.313927",
     "exception": false,
     "start_time": "2022-06-18T09:47:42.019815",
     "status": "completed"
    },
    "tags": []
   },
   "outputs": [],
   "source": [
    "import os\n",
    "import random\n",
    "import numpy as np\n",
    "\n",
    "import cv2\n",
    "import albumentations as A\n",
    "import tensorflow as tf\n",
    "from tensorflow.keras.models import Sequential\n",
    "from tensorflow.keras.preprocessing.image import load_img, array_to_img, img_to_array\n",
    "\n",
    "#import skimage.io as io"
   ]
  },
  {
   "cell_type": "code",
   "execution_count": 2,
   "id": "488f26fe",
   "metadata": {
    "execution": {
     "iopub.execute_input": "2022-06-18T09:47:49.332947Z",
     "iopub.status.busy": "2022-06-18T09:47:49.332077Z",
     "iopub.status.idle": "2022-06-18T09:47:49.337881Z",
     "shell.execute_reply": "2022-06-18T09:47:49.337117Z"
    },
    "papermill": {
     "duration": 0.0169,
     "end_time": "2022-06-18T09:47:49.339524",
     "exception": false,
     "start_time": "2022-06-18T09:47:49.322624",
     "status": "completed"
    },
    "tags": []
   },
   "outputs": [],
   "source": [
    "import matplotlib.pyplot as plt\n",
    "#import matplotlib.gridspec as gridspec\n",
    "%matplotlib inline"
   ]
  },
  {
   "cell_type": "code",
   "execution_count": 3,
   "id": "c880d613",
   "metadata": {
    "execution": {
     "iopub.execute_input": "2022-06-18T09:47:49.356581Z",
     "iopub.status.busy": "2022-06-18T09:47:49.356314Z",
     "iopub.status.idle": "2022-06-18T09:48:09.989205Z",
     "shell.execute_reply": "2022-06-18T09:48:09.988284Z"
    },
    "papermill": {
     "duration": 20.64403,
     "end_time": "2022-06-18T09:48:09.991497",
     "exception": false,
     "start_time": "2022-06-18T09:47:49.347467",
     "status": "completed"
    },
    "tags": []
   },
   "outputs": [
    {
     "name": "stdout",
     "output_type": "stream",
     "text": [
      "\u001b[33mWARNING: Running pip as the 'root' user can result in broken permissions and conflicting behaviour with the system package manager. It is recommended to use a virtual environment instead: https://pip.pypa.io/warnings/venv\u001b[0m\u001b[33m\r\n",
      "\u001b[0m"
     ]
    }
   ],
   "source": [
    "!pip install -q git+https://github.com/philferriere/cocoapi.git#subdirectory=PythonAPI\n",
    "from pycocotools.coco import COCO"
   ]
  },
  {
   "cell_type": "code",
   "execution_count": 4,
   "id": "306d14a5",
   "metadata": {
    "execution": {
     "iopub.execute_input": "2022-06-18T09:48:10.010911Z",
     "iopub.status.busy": "2022-06-18T09:48:10.010176Z",
     "iopub.status.idle": "2022-06-18T09:48:10.018656Z",
     "shell.execute_reply": "2022-06-18T09:48:10.017886Z"
    },
    "papermill": {
     "duration": 0.020699,
     "end_time": "2022-06-18T09:48:10.020736",
     "exception": false,
     "start_time": "2022-06-18T09:48:10.000037",
     "status": "completed"
    },
    "tags": []
   },
   "outputs": [
    {
     "data": {
      "text/plain": [
       "\"\\ndef getBinaryMask(imageObj, coco, catIds, input_image_size):\\n    annIds = coco.getAnnIds(imageObj['id'], catIds=catIds, iscrowd=None)\\n    anns = coco.loadAnns(annIds)\\n    train_mask = np.zeros(input_image_size)\\n    for a in range(len(anns)):\\n        new_mask = cv2.resize(coco.annToMask(anns[a]), input_image_size)\\n        \\n        #Threshold because resizing may cause extraneous values\\n        new_mask[new_mask >= 0.5] = 1\\n        new_mask[new_mask < 0.5] = 0\\n\\n        train_mask = np.maximum(new_mask, train_mask)\\n\\n    # Add extra dimension for parity with train_img size [X * X * 3]\\n    train_mask = train_mask.reshape(input_image_size[0], input_image_size[1], 1)\\n    return train_mask\\n\""
      ]
     },
     "execution_count": 4,
     "metadata": {},
     "output_type": "execute_result"
    }
   ],
   "source": [
    "\"\"\"\n",
    "def getBinaryMask(imageObj, coco, catIds, input_image_size):\n",
    "    annIds = coco.getAnnIds(imageObj['id'], catIds=catIds, iscrowd=None)\n",
    "    anns = coco.loadAnns(annIds)\n",
    "    train_mask = np.zeros(input_image_size)\n",
    "    for a in range(len(anns)):\n",
    "        new_mask = cv2.resize(coco.annToMask(anns[a]), input_image_size)\n",
    "        \n",
    "        #Threshold because resizing may cause extraneous values\n",
    "        new_mask[new_mask >= 0.5] = 1\n",
    "        new_mask[new_mask < 0.5] = 0\n",
    "\n",
    "        train_mask = np.maximum(new_mask, train_mask)\n",
    "\n",
    "    # Add extra dimension for parity with train_img size [X * X * 3]\n",
    "    train_mask = train_mask.reshape(input_image_size[0], input_image_size[1], 1)\n",
    "    return train_mask\n",
    "\"\"\""
   ]
  },
  {
   "cell_type": "code",
   "execution_count": 5,
   "id": "9e0519e0",
   "metadata": {
    "execution": {
     "iopub.execute_input": "2022-06-18T09:48:10.039598Z",
     "iopub.status.busy": "2022-06-18T09:48:10.039280Z",
     "iopub.status.idle": "2022-06-18T09:48:10.044632Z",
     "shell.execute_reply": "2022-06-18T09:48:10.043860Z"
    },
    "papermill": {
     "duration": 0.016648,
     "end_time": "2022-06-18T09:48:10.046484",
     "exception": false,
     "start_time": "2022-06-18T09:48:10.029836",
     "status": "completed"
    },
    "tags": []
   },
   "outputs": [
    {
     "data": {
      "text/plain": [
       "\"\\ndef dataGenerator(catIds,imgIds,coco,batchSize,path_images):\\n    while True:\\n        imgs_arr = np.zeros((batchSize, 256, 256, 3), dtype = np.float32)\\n        masks_arr = np.zeros((batchSize, 256, 256, 1), dtype = bool)\\n        for i in range(batchSize):\\n            image_dict = coco.loadImgs(random.choice(imgIds))[0]\\n            img = load_img(os.path.join(path_images,image_dict['file_name']), target_size = (256, 256, 3))\\n            msk = getBinaryMask(image_dict,coco,catIds,(256,256))\\n\\n            imgs_arr[i] = img\\n            masks_arr[i] = msk\\n        yield (imgs_arr, masks_arr)\\n\""
      ]
     },
     "execution_count": 5,
     "metadata": {},
     "output_type": "execute_result"
    }
   ],
   "source": [
    "\"\"\"\n",
    "def dataGenerator(catIds,imgIds,coco,batchSize,path_images):\n",
    "    while True:\n",
    "        imgs_arr = np.zeros((batchSize, 256, 256, 3), dtype = np.float32)\n",
    "        masks_arr = np.zeros((batchSize, 256, 256, 1), dtype = bool)\n",
    "        for i in range(batchSize):\n",
    "            image_dict = coco.loadImgs(random.choice(imgIds))[0]\n",
    "            img = load_img(os.path.join(path_images,image_dict['file_name']), target_size = (256, 256, 3))\n",
    "            msk = getBinaryMask(image_dict,coco,catIds,(256,256))\n",
    "\n",
    "            imgs_arr[i] = img\n",
    "            masks_arr[i] = msk\n",
    "        yield (imgs_arr, masks_arr)\n",
    "\"\"\""
   ]
  },
  {
   "cell_type": "code",
   "execution_count": 6,
   "id": "c6bef7ae",
   "metadata": {
    "execution": {
     "iopub.execute_input": "2022-06-18T09:48:10.065205Z",
     "iopub.status.busy": "2022-06-18T09:48:10.064536Z",
     "iopub.status.idle": "2022-06-18T09:48:10.077540Z",
     "shell.execute_reply": "2022-06-18T09:48:10.076761Z"
    },
    "papermill": {
     "duration": 0.024399,
     "end_time": "2022-06-18T09:48:10.079252",
     "exception": false,
     "start_time": "2022-06-18T09:48:10.054853",
     "status": "completed"
    },
    "tags": []
   },
   "outputs": [],
   "source": [
    "class DataGenerator(tf.keras.utils.Sequence):\n",
    "    def __init__(self,catIds,imgIds,coco,batchSize,path_images):\n",
    "        self.catIds = catIds\n",
    "        self.imgIds = imgIds\n",
    "        self.coco = coco\n",
    "        self.batchSize = batchSize\n",
    "        self.path_images = path_images\n",
    "    def __len__(self):\n",
    "        return len(self.imgIds) // self.batchSize\n",
    "    def getBinaryMask(self,imageObj, coco, catIds, input_image_size):\n",
    "        annIds = coco.getAnnIds(imageObj['id'], catIds=catIds, iscrowd=None)\n",
    "        anns = coco.loadAnns(annIds)\n",
    "        train_mask = np.zeros(input_image_size)\n",
    "        for a in range(len(anns)):\n",
    "            new_mask = cv2.resize(coco.annToMask(anns[a]), input_image_size)\n",
    "\n",
    "            #Threshold because resizing may cause extraneous values\n",
    "            new_mask[new_mask >= 0.5] = 1\n",
    "            new_mask[new_mask < 0.5] = 0\n",
    "\n",
    "            train_mask = np.maximum(new_mask, train_mask)\n",
    "\n",
    "        # Add extra dimension for parity with train_img size [X * X * 3]\n",
    "        train_mask = train_mask.reshape(input_image_size[0], input_image_size[1], 1)\n",
    "        return train_mask\n",
    "    def __getitem__(self,id_imgIds):\n",
    "        imgs_arr = np.zeros((self.batchSize, 256, 256, 3), dtype = np.float32)\n",
    "        masks_arr = np.zeros((self.batchSize, 256, 256, 1), dtype = bool)\n",
    "        i = id_imgIds * self.batchSize\n",
    "        id_imgIds_batch = self.imgIds[i:i + self.batchSize - 1]\n",
    "        arr_index = 0\n",
    "        for id_imgIds_batch_index in id_imgIds_batch:\n",
    "            image_dict = self.coco.loadImgs(id_imgIds_batch_index)[0]\n",
    "            img = load_img(os.path.join(self.path_images,image_dict['file_name']), target_size = (256, 256, 3)) \n",
    "            msk = self.getBinaryMask(image_dict,self.coco,self.catIds,(256,256))\n",
    "            imgs_arr[arr_index] = img\n",
    "            imgs_arr[arr_index] = imgs_arr[arr_index] / 255\n",
    "            masks_arr[arr_index] = msk\n",
    "            arr_index += 1\n",
    "        return imgs_arr, masks_arr\n",
    "    "
   ]
  },
  {
   "cell_type": "code",
   "execution_count": 7,
   "id": "92029206",
   "metadata": {
    "execution": {
     "iopub.execute_input": "2022-06-18T09:48:10.098463Z",
     "iopub.status.busy": "2022-06-18T09:48:10.097774Z",
     "iopub.status.idle": "2022-06-18T09:48:10.102824Z",
     "shell.execute_reply": "2022-06-18T09:48:10.101990Z"
    },
    "papermill": {
     "duration": 0.016658,
     "end_time": "2022-06-18T09:48:10.104870",
     "exception": false,
     "start_time": "2022-06-18T09:48:10.088212",
     "status": "completed"
    },
    "tags": []
   },
   "outputs": [],
   "source": [
    "def getImgsNamesList(dataDir='../input/coco-2017-dataset/coco2017/annotations',dataType=str(),classNames=str()):\n",
    "    annFile = '{}/instances_{}.json'.format(dataDir,dataType)\n",
    "    coco=COCO(annFile)\n",
    "    catIds = coco.getCatIds(catNms=classNames)\n",
    "    imgIds = coco.getImgIds(catIds=catIds)\n",
    "    return catIds, imgIds, coco"
   ]
  },
  {
   "cell_type": "code",
   "execution_count": 8,
   "id": "0920cd96",
   "metadata": {
    "execution": {
     "iopub.execute_input": "2022-06-18T09:48:10.123243Z",
     "iopub.status.busy": "2022-06-18T09:48:10.122563Z",
     "iopub.status.idle": "2022-06-18T09:48:38.575416Z",
     "shell.execute_reply": "2022-06-18T09:48:38.573600Z"
    },
    "papermill": {
     "duration": 28.464162,
     "end_time": "2022-06-18T09:48:38.577550",
     "exception": false,
     "start_time": "2022-06-18T09:48:10.113388",
     "status": "completed"
    },
    "tags": []
   },
   "outputs": [
    {
     "name": "stdout",
     "output_type": "stream",
     "text": [
      "loading annotations into memory...\n",
      "Done (t=25.97s)\n",
      "creating index...\n",
      "index created!\n",
      "loading annotations into memory...\n",
      "Done (t=1.26s)\n",
      "creating index...\n",
      "index created!\n"
     ]
    }
   ],
   "source": [
    "catIds_train, imgIds_train, coco_train = getImgsNamesList(dataType='train2017',classNames='person')\n",
    "catIds_val, imgIds_val, coco_val = getImgsNamesList(dataType='val2017',classNames='person')"
   ]
  },
  {
   "cell_type": "code",
   "execution_count": 9,
   "id": "d5c6d82f",
   "metadata": {
    "execution": {
     "iopub.execute_input": "2022-06-18T09:48:38.596390Z",
     "iopub.status.busy": "2022-06-18T09:48:38.596083Z",
     "iopub.status.idle": "2022-06-18T09:48:38.601292Z",
     "shell.execute_reply": "2022-06-18T09:48:38.600426Z"
    },
    "papermill": {
     "duration": 0.017021,
     "end_time": "2022-06-18T09:48:38.603731",
     "exception": false,
     "start_time": "2022-06-18T09:48:38.586710",
     "status": "completed"
    },
    "tags": []
   },
   "outputs": [
    {
     "data": {
      "text/plain": [
       "64115"
      ]
     },
     "execution_count": 9,
     "metadata": {},
     "output_type": "execute_result"
    }
   ],
   "source": [
    "len(imgIds_train)"
   ]
  },
  {
   "cell_type": "code",
   "execution_count": 10,
   "id": "2ba7fa45",
   "metadata": {
    "execution": {
     "iopub.execute_input": "2022-06-18T09:48:38.622742Z",
     "iopub.status.busy": "2022-06-18T09:48:38.622480Z",
     "iopub.status.idle": "2022-06-18T09:48:38.625998Z",
     "shell.execute_reply": "2022-06-18T09:48:38.625242Z"
    },
    "papermill": {
     "duration": 0.014822,
     "end_time": "2022-06-18T09:48:38.627619",
     "exception": false,
     "start_time": "2022-06-18T09:48:38.612797",
     "status": "completed"
    },
    "tags": []
   },
   "outputs": [],
   "source": [
    "img_path_val = '../input/coco-2017-dataset/coco2017/val2017'\n",
    "img_path_train = '../input/coco-2017-dataset/coco2017/train2017'"
   ]
  },
  {
   "cell_type": "code",
   "execution_count": 11,
   "id": "3f539237",
   "metadata": {
    "execution": {
     "iopub.execute_input": "2022-06-18T09:48:38.646594Z",
     "iopub.status.busy": "2022-06-18T09:48:38.645998Z",
     "iopub.status.idle": "2022-06-18T09:48:38.650253Z",
     "shell.execute_reply": "2022-06-18T09:48:38.649414Z"
    },
    "papermill": {
     "duration": 0.01574,
     "end_time": "2022-06-18T09:48:38.652063",
     "exception": false,
     "start_time": "2022-06-18T09:48:38.636323",
     "status": "completed"
    },
    "tags": []
   },
   "outputs": [],
   "source": [
    "train_gen = DataGenerator(catIds_train,imgIds_train,coco_train,32,img_path_train)\n",
    "val_gen = DataGenerator(catIds_val,imgIds_val,coco_val,32,img_path_val)"
   ]
  },
  {
   "cell_type": "code",
   "execution_count": 12,
   "id": "8356a98d",
   "metadata": {
    "execution": {
     "iopub.execute_input": "2022-06-18T09:48:38.670435Z",
     "iopub.status.busy": "2022-06-18T09:48:38.670161Z",
     "iopub.status.idle": "2022-06-18T09:48:39.426597Z",
     "shell.execute_reply": "2022-06-18T09:48:39.425779Z"
    },
    "papermill": {
     "duration": 0.768255,
     "end_time": "2022-06-18T09:48:39.428931",
     "exception": false,
     "start_time": "2022-06-18T09:48:38.660676",
     "status": "completed"
    },
    "tags": []
   },
   "outputs": [
    {
     "name": "stdout",
     "output_type": "stream",
     "text": [
      "(32, 256, 256, 3) (32, 256, 256, 1)\n"
     ]
    }
   ],
   "source": [
    "x, y = train_gen.__getitem__(1)\n",
    "print(x.shape, y.shape)"
   ]
  },
  {
   "cell_type": "code",
   "execution_count": 13,
   "id": "9d19bff0",
   "metadata": {
    "execution": {
     "iopub.execute_input": "2022-06-18T09:48:39.460502Z",
     "iopub.status.busy": "2022-06-18T09:48:39.460089Z",
     "iopub.status.idle": "2022-06-18T09:48:39.463873Z",
     "shell.execute_reply": "2022-06-18T09:48:39.463142Z"
    },
    "papermill": {
     "duration": 0.023219,
     "end_time": "2022-06-18T09:48:39.467725",
     "exception": false,
     "start_time": "2022-06-18T09:48:39.444506",
     "status": "completed"
    },
    "tags": []
   },
   "outputs": [],
   "source": [
    "#for x, y in dataGenerator(catIds_train,imgIds_train,coco_train,16,img_path_train):\n",
    "#    break"
   ]
  },
  {
   "cell_type": "code",
   "execution_count": 14,
   "id": "fd3c7402",
   "metadata": {
    "execution": {
     "iopub.execute_input": "2022-06-18T09:48:39.498079Z",
     "iopub.status.busy": "2022-06-18T09:48:39.497661Z",
     "iopub.status.idle": "2022-06-18T09:48:39.553042Z",
     "shell.execute_reply": "2022-06-18T09:48:39.552277Z"
    },
    "papermill": {
     "duration": 0.073276,
     "end_time": "2022-06-18T09:48:39.555614",
     "exception": false,
     "start_time": "2022-06-18T09:48:39.482338",
     "status": "completed"
    },
    "tags": []
   },
   "outputs": [
    {
     "data": {
      "text/plain": [
       "<matplotlib.image.AxesImage at 0x7f57577e3190>"
      ]
     },
     "execution_count": 14,
     "metadata": {},
     "output_type": "execute_result"
    }
   ],
   "source": [
    "plt.imshow(array_to_img(x[4]))"
   ]
  },
  {
   "cell_type": "code",
   "execution_count": 15,
   "id": "0f3d5c67",
   "metadata": {
    "execution": {
     "iopub.execute_input": "2022-06-18T09:48:39.588099Z",
     "iopub.status.busy": "2022-06-18T09:48:39.587651Z",
     "iopub.status.idle": "2022-06-18T09:48:39.598607Z",
     "shell.execute_reply": "2022-06-18T09:48:39.595310Z"
    },
    "papermill": {
     "duration": 0.030828,
     "end_time": "2022-06-18T09:48:39.602149",
     "exception": false,
     "start_time": "2022-06-18T09:48:39.571321",
     "status": "completed"
    },
    "tags": []
   },
   "outputs": [
    {
     "data": {
      "text/plain": [
       "<matplotlib.image.AxesImage at 0x7f57577f2b10>"
      ]
     },
     "execution_count": 15,
     "metadata": {},
     "output_type": "execute_result"
    }
   ],
   "source": [
    "plt.imshow(y[4])"
   ]
  },
  {
   "cell_type": "code",
   "execution_count": 16,
   "id": "625ac5f4",
   "metadata": {
    "execution": {
     "iopub.execute_input": "2022-06-18T09:48:39.626755Z",
     "iopub.status.busy": "2022-06-18T09:48:39.625946Z",
     "iopub.status.idle": "2022-06-18T09:48:39.640607Z",
     "shell.execute_reply": "2022-06-18T09:48:39.639660Z"
    },
    "papermill": {
     "duration": 0.030207,
     "end_time": "2022-06-18T09:48:39.642428",
     "exception": false,
     "start_time": "2022-06-18T09:48:39.612221",
     "status": "completed"
    },
    "tags": []
   },
   "outputs": [],
   "source": [
    "#from tensorflow import keras\n",
    "#from keras import layers\n",
    "#from keras.callbacks import ModelCheckpoint\n",
    "from tensorflow.keras import backend as K\n",
    "from tensorflow.keras.layers import Activation, Lambda, GlobalAveragePooling2D, concatenate\n",
    "from tensorflow.keras.layers import UpSampling2D, Conv2D, Dropout, MaxPooling2D, Conv2DTranspose\n",
    "from tensorflow.keras.layers import Dense, Flatten, Input\n",
    "from tensorflow.keras.models import Model, Sequential, load_model\n",
    "from tensorflow.keras.callbacks import ModelCheckpoint, ReduceLROnPlateau\n",
    "from tensorflow.keras.preprocessing.image import ImageDataGenerator\n",
    "from tensorflow.keras.applications.vgg16 import preprocess_input,VGG16"
   ]
  },
  {
   "cell_type": "code",
   "execution_count": 17,
   "id": "a5baa251",
   "metadata": {
    "execution": {
     "iopub.execute_input": "2022-06-18T09:48:39.674051Z",
     "iopub.status.busy": "2022-06-18T09:48:39.673581Z",
     "iopub.status.idle": "2022-06-18T09:48:39.683317Z",
     "shell.execute_reply": "2022-06-18T09:48:39.682460Z"
    },
    "papermill": {
     "duration": 0.038266,
     "end_time": "2022-06-18T09:48:39.691343",
     "exception": false,
     "start_time": "2022-06-18T09:48:39.653077",
     "status": "completed"
    },
    "tags": []
   },
   "outputs": [],
   "source": [
    "def jacard_coef(y_true, y_pred):\n",
    "    y_true = tf.cast(y_true, tf.float32)\n",
    "    y_pred = tf.cast(y_pred, tf.float32)\n",
    "    y_true_f = K.flatten(y_true)\n",
    "    y_pred_f = K.flatten(y_pred)\n",
    "    intersection = K.sum(y_true_f * y_pred_f)\n",
    "    return (intersection + 1.0) / (K.sum(y_true_f) + K.sum(y_pred_f) - intersection + 1.0)\n",
    "\n",
    "\n",
    "def jacard_coef_loss(y_true, y_pred):\n",
    "    return -jacard_coef(y_true, y_pred)  # -1 ultiplied as we want to minimize this value as loss function"
   ]
  },
  {
   "cell_type": "code",
   "execution_count": 18,
   "id": "27082dc1",
   "metadata": {
    "execution": {
     "iopub.execute_input": "2022-06-18T09:48:39.731653Z",
     "iopub.status.busy": "2022-06-18T09:48:39.731083Z",
     "iopub.status.idle": "2022-06-18T09:48:39.750552Z",
     "shell.execute_reply": "2022-06-18T09:48:39.749733Z"
    },
    "papermill": {
     "duration": 0.043373,
     "end_time": "2022-06-18T09:48:39.753804",
     "exception": false,
     "start_time": "2022-06-18T09:48:39.710431",
     "status": "completed"
    },
    "tags": []
   },
   "outputs": [],
   "source": [
    "def conv_block(inputs,num_filters):\n",
    "    x = Conv2D(num_filters,3,padding='same')(inputs)\n",
    "    x = tf.keras.layers.BatchNormalization()(x)\n",
    "    x = tf.keras.layers.Activation('relu')(x)  \n",
    "    x = Conv2D(num_filters,3,padding='same')(x)\n",
    "    x = tf.keras.layers.BatchNormalization()(x)\n",
    "    x = tf.keras.layers.Activation('relu')(x)  \n",
    "    return x\n",
    "def define_decoder(inputs,skip_layer,num_filters):\n",
    "    init = tf.keras.initializers.RandomNormal(stddev=0.02)\n",
    "    x = Conv2DTranspose(num_filters,(2,2),strides=(2,2),padding='same',kernel_initializer=init)(inputs)  \n",
    "    g = tf.keras.layers.Concatenate()([x,skip_layer])\n",
    "    g = conv_block(g,num_filters)\n",
    "    return g\n",
    "def vgg16_unet(input_shape):\n",
    "    inputs = Input(shape=input_shape) \n",
    "    vgg16 = VGG16(include_top=False,weights='imagenet',input_tensor=inputs)  # We will extract encoder layers based on their output shape from vgg16 model  s1 = vgg16.get_layer('block1_conv2').output  \n",
    "    s1 = vgg16.get_layer('block1_conv2').output\n",
    "    s2 = vgg16.get_layer('block2_conv2').output  \n",
    "    s3 = vgg16.get_layer('block3_conv3').output  \n",
    "    s4 = vgg16.get_layer('block4_conv3').output    # bottleneck/bridege layer from vgg16\n",
    "    b1 = vgg16.get_layer('block5_conv3').output #32\n",
    "  \n",
    "  # Decoder Block\n",
    "    d1 = define_decoder(b1,s4,512)\n",
    "    d2 = define_decoder(d1,s3,256)\n",
    "    d3 = define_decoder(d2,s2,128)\n",
    "    d4 = define_decoder(d3,s1,64)  #output layer\n",
    "    outputs = Conv2D(1,1,padding='same',activation='sigmoid')(d4)\n",
    "    model = Model(inputs,outputs)\n",
    "  \n",
    "    return model"
   ]
  },
  {
   "cell_type": "code",
   "execution_count": 19,
   "id": "6daad8a7",
   "metadata": {
    "execution": {
     "iopub.execute_input": "2022-06-18T09:48:39.790359Z",
     "iopub.status.busy": "2022-06-18T09:48:39.784825Z",
     "iopub.status.idle": "2022-06-18T09:48:43.372525Z",
     "shell.execute_reply": "2022-06-18T09:48:43.371551Z"
    },
    "papermill": {
     "duration": 3.607057,
     "end_time": "2022-06-18T09:48:43.376277",
     "exception": false,
     "start_time": "2022-06-18T09:48:39.769220",
     "status": "completed"
    },
    "tags": []
   },
   "outputs": [
    {
     "name": "stderr",
     "output_type": "stream",
     "text": [
      "2022-06-18 09:48:39.917207: I tensorflow/stream_executor/cuda/cuda_gpu_executor.cc:937] successful NUMA node read from SysFS had negative value (-1), but there must be at least one NUMA node, so returning NUMA node zero\n"
     ]
    },
    {
     "name": "stdout",
     "output_type": "stream",
     "text": [
      "Downloading data from https://storage.googleapis.com/tensorflow/keras-applications/vgg16/vgg16_weights_tf_dim_ordering_tf_kernels_notop.h5\n",
      "   16384/58889256 [..............................] - ETA: 0s"
     ]
    },
    {
     "name": "stderr",
     "output_type": "stream",
     "text": [
      "2022-06-18 09:48:40.028752: I tensorflow/stream_executor/cuda/cuda_gpu_executor.cc:937] successful NUMA node read from SysFS had negative value (-1), but there must be at least one NUMA node, so returning NUMA node zero\n",
      "2022-06-18 09:48:40.030128: I tensorflow/stream_executor/cuda/cuda_gpu_executor.cc:937] successful NUMA node read from SysFS had negative value (-1), but there must be at least one NUMA node, so returning NUMA node zero\n",
      "2022-06-18 09:48:40.032051: I tensorflow/core/platform/cpu_feature_guard.cc:142] This TensorFlow binary is optimized with oneAPI Deep Neural Network Library (oneDNN) to use the following CPU instructions in performance-critical operations:  AVX2 AVX512F FMA\n",
      "To enable them in other operations, rebuild TensorFlow with the appropriate compiler flags.\n",
      "2022-06-18 09:48:40.032502: I tensorflow/stream_executor/cuda/cuda_gpu_executor.cc:937] successful NUMA node read from SysFS had negative value (-1), but there must be at least one NUMA node, so returning NUMA node zero\n",
      "2022-06-18 09:48:40.033570: I tensorflow/stream_executor/cuda/cuda_gpu_executor.cc:937] successful NUMA node read from SysFS had negative value (-1), but there must be at least one NUMA node, so returning NUMA node zero\n",
      "2022-06-18 09:48:40.034632: I tensorflow/stream_executor/cuda/cuda_gpu_executor.cc:937] successful NUMA node read from SysFS had negative value (-1), but there must be at least one NUMA node, so returning NUMA node zero\n",
      "2022-06-18 09:48:42.316742: I tensorflow/stream_executor/cuda/cuda_gpu_executor.cc:937] successful NUMA node read from SysFS had negative value (-1), but there must be at least one NUMA node, so returning NUMA node zero\n",
      "2022-06-18 09:48:42.317711: I tensorflow/stream_executor/cuda/cuda_gpu_executor.cc:937] successful NUMA node read from SysFS had negative value (-1), but there must be at least one NUMA node, so returning NUMA node zero\n",
      "2022-06-18 09:48:42.318395: I tensorflow/stream_executor/cuda/cuda_gpu_executor.cc:937] successful NUMA node read from SysFS had negative value (-1), but there must be at least one NUMA node, so returning NUMA node zero\n",
      "2022-06-18 09:48:42.318977: I tensorflow/core/common_runtime/gpu/gpu_device.cc:1510] Created device /job:localhost/replica:0/task:0/device:GPU:0 with 15403 MB memory:  -> device: 0, name: Tesla P100-PCIE-16GB, pci bus id: 0000:00:04.0, compute capability: 6.0\n"
     ]
    },
    {
     "name": "stdout",
     "output_type": "stream",
     "text": [
      "58892288/58889256 [==============================] - 0s 0us/step\n",
      "58900480/58889256 [==============================] - 0s 0us/step\n",
      "Model: \"model\"\n",
      "__________________________________________________________________________________________________\n",
      "Layer (type)                    Output Shape         Param #     Connected to                     \n",
      "==================================================================================================\n",
      "input_1 (InputLayer)            [(None, 256, 256, 3) 0                                            \n",
      "__________________________________________________________________________________________________\n",
      "block1_conv1 (Conv2D)           (None, 256, 256, 64) 1792        input_1[0][0]                    \n",
      "__________________________________________________________________________________________________\n",
      "block1_conv2 (Conv2D)           (None, 256, 256, 64) 36928       block1_conv1[0][0]               \n",
      "__________________________________________________________________________________________________\n",
      "block1_pool (MaxPooling2D)      (None, 128, 128, 64) 0           block1_conv2[0][0]               \n",
      "__________________________________________________________________________________________________\n",
      "block2_conv1 (Conv2D)           (None, 128, 128, 128 73856       block1_pool[0][0]                \n",
      "__________________________________________________________________________________________________\n",
      "block2_conv2 (Conv2D)           (None, 128, 128, 128 147584      block2_conv1[0][0]               \n",
      "__________________________________________________________________________________________________\n",
      "block2_pool (MaxPooling2D)      (None, 64, 64, 128)  0           block2_conv2[0][0]               \n",
      "__________________________________________________________________________________________________\n",
      "block3_conv1 (Conv2D)           (None, 64, 64, 256)  295168      block2_pool[0][0]                \n",
      "__________________________________________________________________________________________________\n",
      "block3_conv2 (Conv2D)           (None, 64, 64, 256)  590080      block3_conv1[0][0]               \n",
      "__________________________________________________________________________________________________\n",
      "block3_conv3 (Conv2D)           (None, 64, 64, 256)  590080      block3_conv2[0][0]               \n",
      "__________________________________________________________________________________________________\n",
      "block3_pool (MaxPooling2D)      (None, 32, 32, 256)  0           block3_conv3[0][0]               \n",
      "__________________________________________________________________________________________________\n",
      "block4_conv1 (Conv2D)           (None, 32, 32, 512)  1180160     block3_pool[0][0]                \n",
      "__________________________________________________________________________________________________\n",
      "block4_conv2 (Conv2D)           (None, 32, 32, 512)  2359808     block4_conv1[0][0]               \n",
      "__________________________________________________________________________________________________\n",
      "block4_conv3 (Conv2D)           (None, 32, 32, 512)  2359808     block4_conv2[0][0]               \n",
      "__________________________________________________________________________________________________\n",
      "block4_pool (MaxPooling2D)      (None, 16, 16, 512)  0           block4_conv3[0][0]               \n",
      "__________________________________________________________________________________________________\n",
      "block5_conv1 (Conv2D)           (None, 16, 16, 512)  2359808     block4_pool[0][0]                \n",
      "__________________________________________________________________________________________________\n",
      "block5_conv2 (Conv2D)           (None, 16, 16, 512)  2359808     block5_conv1[0][0]               \n",
      "__________________________________________________________________________________________________\n",
      "block5_conv3 (Conv2D)           (None, 16, 16, 512)  2359808     block5_conv2[0][0]               \n",
      "__________________________________________________________________________________________________\n",
      "conv2d_transpose (Conv2DTranspo (None, 32, 32, 512)  1049088     block5_conv3[0][0]               \n",
      "__________________________________________________________________________________________________\n",
      "concatenate (Concatenate)       (None, 32, 32, 1024) 0           conv2d_transpose[0][0]           \n",
      "                                                                 block4_conv3[0][0]               \n",
      "__________________________________________________________________________________________________\n",
      "conv2d (Conv2D)                 (None, 32, 32, 512)  4719104     concatenate[0][0]                \n",
      "__________________________________________________________________________________________________\n",
      "batch_normalization (BatchNorma (None, 32, 32, 512)  2048        conv2d[0][0]                     \n",
      "__________________________________________________________________________________________________\n",
      "activation (Activation)         (None, 32, 32, 512)  0           batch_normalization[0][0]        \n",
      "__________________________________________________________________________________________________\n",
      "conv2d_1 (Conv2D)               (None, 32, 32, 512)  2359808     activation[0][0]                 \n",
      "__________________________________________________________________________________________________\n",
      "batch_normalization_1 (BatchNor (None, 32, 32, 512)  2048        conv2d_1[0][0]                   \n",
      "__________________________________________________________________________________________________\n",
      "activation_1 (Activation)       (None, 32, 32, 512)  0           batch_normalization_1[0][0]      \n",
      "__________________________________________________________________________________________________\n",
      "conv2d_transpose_1 (Conv2DTrans (None, 64, 64, 256)  524544      activation_1[0][0]               \n",
      "__________________________________________________________________________________________________\n",
      "concatenate_1 (Concatenate)     (None, 64, 64, 512)  0           conv2d_transpose_1[0][0]         \n",
      "                                                                 block3_conv3[0][0]               \n",
      "__________________________________________________________________________________________________\n",
      "conv2d_2 (Conv2D)               (None, 64, 64, 256)  1179904     concatenate_1[0][0]              \n",
      "__________________________________________________________________________________________________\n",
      "batch_normalization_2 (BatchNor (None, 64, 64, 256)  1024        conv2d_2[0][0]                   \n",
      "__________________________________________________________________________________________________\n",
      "activation_2 (Activation)       (None, 64, 64, 256)  0           batch_normalization_2[0][0]      \n",
      "__________________________________________________________________________________________________\n",
      "conv2d_3 (Conv2D)               (None, 64, 64, 256)  590080      activation_2[0][0]               \n",
      "__________________________________________________________________________________________________\n",
      "batch_normalization_3 (BatchNor (None, 64, 64, 256)  1024        conv2d_3[0][0]                   \n",
      "__________________________________________________________________________________________________\n",
      "activation_3 (Activation)       (None, 64, 64, 256)  0           batch_normalization_3[0][0]      \n",
      "__________________________________________________________________________________________________\n",
      "conv2d_transpose_2 (Conv2DTrans (None, 128, 128, 128 131200      activation_3[0][0]               \n",
      "__________________________________________________________________________________________________\n",
      "concatenate_2 (Concatenate)     (None, 128, 128, 256 0           conv2d_transpose_2[0][0]         \n",
      "                                                                 block2_conv2[0][0]               \n",
      "__________________________________________________________________________________________________\n",
      "conv2d_4 (Conv2D)               (None, 128, 128, 128 295040      concatenate_2[0][0]              \n",
      "__________________________________________________________________________________________________\n",
      "batch_normalization_4 (BatchNor (None, 128, 128, 128 512         conv2d_4[0][0]                   \n",
      "__________________________________________________________________________________________________\n",
      "activation_4 (Activation)       (None, 128, 128, 128 0           batch_normalization_4[0][0]      \n",
      "__________________________________________________________________________________________________\n",
      "conv2d_5 (Conv2D)               (None, 128, 128, 128 147584      activation_4[0][0]               \n",
      "__________________________________________________________________________________________________\n",
      "batch_normalization_5 (BatchNor (None, 128, 128, 128 512         conv2d_5[0][0]                   \n",
      "__________________________________________________________________________________________________\n",
      "activation_5 (Activation)       (None, 128, 128, 128 0           batch_normalization_5[0][0]      \n",
      "__________________________________________________________________________________________________\n",
      "conv2d_transpose_3 (Conv2DTrans (None, 256, 256, 64) 32832       activation_5[0][0]               \n",
      "__________________________________________________________________________________________________\n",
      "concatenate_3 (Concatenate)     (None, 256, 256, 128 0           conv2d_transpose_3[0][0]         \n",
      "                                                                 block1_conv2[0][0]               \n",
      "__________________________________________________________________________________________________\n",
      "conv2d_6 (Conv2D)               (None, 256, 256, 64) 73792       concatenate_3[0][0]              \n",
      "__________________________________________________________________________________________________\n",
      "batch_normalization_6 (BatchNor (None, 256, 256, 64) 256         conv2d_6[0][0]                   \n",
      "__________________________________________________________________________________________________\n",
      "activation_6 (Activation)       (None, 256, 256, 64) 0           batch_normalization_6[0][0]      \n",
      "__________________________________________________________________________________________________\n",
      "conv2d_7 (Conv2D)               (None, 256, 256, 64) 36928       activation_6[0][0]               \n",
      "__________________________________________________________________________________________________\n",
      "batch_normalization_7 (BatchNor (None, 256, 256, 64) 256         conv2d_7[0][0]                   \n",
      "__________________________________________________________________________________________________\n",
      "activation_7 (Activation)       (None, 256, 256, 64) 0           batch_normalization_7[0][0]      \n",
      "__________________________________________________________________________________________________\n",
      "conv2d_8 (Conv2D)               (None, 256, 256, 1)  65          activation_7[0][0]               \n",
      "==================================================================================================\n",
      "Total params: 25,862,337\n",
      "Trainable params: 25,858,497\n",
      "Non-trainable params: 3,840\n",
      "__________________________________________________________________________________________________\n"
     ]
    }
   ],
   "source": [
    "model = vgg16_unet(input_shape = (256,256,3))\n",
    "model.summary()"
   ]
  },
  {
   "cell_type": "code",
   "execution_count": 20,
   "id": "32fdc83a",
   "metadata": {
    "execution": {
     "iopub.execute_input": "2022-06-18T09:48:43.398483Z",
     "iopub.status.busy": "2022-06-18T09:48:43.398202Z",
     "iopub.status.idle": "2022-06-18T09:48:43.411935Z",
     "shell.execute_reply": "2022-06-18T09:48:43.411262Z"
    },
    "papermill": {
     "duration": 0.026239,
     "end_time": "2022-06-18T09:48:43.413528",
     "exception": false,
     "start_time": "2022-06-18T09:48:43.387289",
     "status": "completed"
    },
    "tags": []
   },
   "outputs": [],
   "source": [
    "model.compile(optimizer=tf.keras.optimizers.Adam(learning_rate=1e-3), loss=[jacard_coef_loss], metrics=['accuracy', jacard_coef])\n",
    "reduce_lr = ReduceLROnPlateau(monitor='val_acc', factor=0.2, patience=5, verbose=1)\n",
    "checkpoint = tf.keras.callbacks.ModelCheckpoint('./model_epoch_{epoch:00d}', save_best_only= False)\n",
    "callbacks = [checkpoint,reduce_lr]"
   ]
  },
  {
   "cell_type": "code",
   "execution_count": 21,
   "id": "79e5bc8d",
   "metadata": {
    "execution": {
     "iopub.execute_input": "2022-06-18T09:48:43.434002Z",
     "iopub.status.busy": "2022-06-18T09:48:43.433738Z",
     "iopub.status.idle": "2022-06-18T16:29:17.475617Z",
     "shell.execute_reply": "2022-06-18T16:29:17.473637Z"
    },
    "papermill": {
     "duration": 24034.05852,
     "end_time": "2022-06-18T16:29:17.481924",
     "exception": false,
     "start_time": "2022-06-18T09:48:43.423404",
     "status": "completed"
    },
    "tags": []
   },
   "outputs": [
    {
     "name": "stderr",
     "output_type": "stream",
     "text": [
      "2022-06-18 09:48:44.247195: I tensorflow/compiler/mlir/mlir_graph_optimization_pass.cc:185] None of the MLIR Optimization Passes are enabled (registered 2)\n"
     ]
    },
    {
     "name": "stdout",
     "output_type": "stream",
     "text": [
      "Epoch 1/15\n"
     ]
    },
    {
     "name": "stderr",
     "output_type": "stream",
     "text": [
      "2022-06-18 09:48:47.619231: I tensorflow/stream_executor/cuda/cuda_dnn.cc:369] Loaded cuDNN version 8005\n"
     ]
    },
    {
     "name": "stdout",
     "output_type": "stream",
     "text": [
      "2003/2003 [==============================] - 1688s 834ms/step - loss: -0.4954 - accuracy: 0.8787 - jacard_coef: 0.4954 - val_loss: -0.5703 - val_accuracy: 0.9156 - val_jacard_coef: 0.5703\n"
     ]
    },
    {
     "name": "stderr",
     "output_type": "stream",
     "text": [
      "2022-06-18 10:16:54.327037: W tensorflow/python/util/util.cc:348] Sets are not currently considered sequences, but this may change in the future, so consider avoiding using them.\n"
     ]
    },
    {
     "name": "stdout",
     "output_type": "stream",
     "text": [
      "Epoch 2/15\n",
      "2003/2003 [==============================] - 1533s 765ms/step - loss: -0.5921 - accuracy: 0.9158 - jacard_coef: 0.5921 - val_loss: -0.5893 - val_accuracy: 0.9072 - val_jacard_coef: 0.5893\n",
      "Epoch 3/15\n",
      "2003/2003 [==============================] - 1538s 767ms/step - loss: -0.6274 - accuracy: 0.9257 - jacard_coef: 0.6274 - val_loss: -0.6340 - val_accuracy: 0.9250 - val_jacard_coef: 0.6340\n",
      "Epoch 4/15\n",
      "2003/2003 [==============================] - 1593s 795ms/step - loss: -0.6513 - accuracy: 0.9319 - jacard_coef: 0.6513 - val_loss: -0.6284 - val_accuracy: 0.9329 - val_jacard_coef: 0.6284\n",
      "Epoch 5/15\n",
      "2003/2003 [==============================] - 1558s 778ms/step - loss: -0.6676 - accuracy: 0.9359 - jacard_coef: 0.6676 - val_loss: -0.6614 - val_accuracy: 0.9366 - val_jacard_coef: 0.6614\n",
      "Epoch 6/15\n",
      "2003/2003 [==============================] - 1572s 784ms/step - loss: -0.6802 - accuracy: 0.9389 - jacard_coef: 0.6802 - val_loss: -0.6675 - val_accuracy: 0.9362 - val_jacard_coef: 0.6675\n",
      "Epoch 7/15\n",
      "2003/2003 [==============================] - 1576s 787ms/step - loss: -0.6937 - accuracy: 0.9421 - jacard_coef: 0.6937 - val_loss: -0.6749 - val_accuracy: 0.9392 - val_jacard_coef: 0.6749\n",
      "Epoch 8/15\n",
      "2003/2003 [==============================] - 1577s 787ms/step - loss: -0.7063 - accuracy: 0.9450 - jacard_coef: 0.7063 - val_loss: -0.6499 - val_accuracy: 0.9254 - val_jacard_coef: 0.6499\n",
      "Epoch 9/15\n",
      "2003/2003 [==============================] - 1577s 787ms/step - loss: -0.7138 - accuracy: 0.9465 - jacard_coef: 0.7138 - val_loss: -0.6922 - val_accuracy: 0.9443 - val_jacard_coef: 0.6922\n",
      "Epoch 10/15\n",
      "2003/2003 [==============================] - 1591s 794ms/step - loss: -0.7219 - accuracy: 0.9483 - jacard_coef: 0.7219 - val_loss: -0.6901 - val_accuracy: 0.9426 - val_jacard_coef: 0.6901\n",
      "Epoch 11/15\n",
      "2003/2003 [==============================] - 1584s 791ms/step - loss: -0.7301 - accuracy: 0.9502 - jacard_coef: 0.7301 - val_loss: -0.6965 - val_accuracy: 0.9407 - val_jacard_coef: 0.6965\n",
      "Epoch 12/15\n",
      "2003/2003 [==============================] - 1607s 802ms/step - loss: -0.7392 - accuracy: 0.9521 - jacard_coef: 0.7392 - val_loss: -0.6984 - val_accuracy: 0.9461 - val_jacard_coef: 0.6984\n",
      "Epoch 13/15\n",
      "2003/2003 [==============================] - 1607s 802ms/step - loss: -0.7438 - accuracy: 0.9531 - jacard_coef: 0.7438 - val_loss: -0.7159 - val_accuracy: 0.9456 - val_jacard_coef: 0.7159\n",
      "Epoch 14/15\n",
      "2003/2003 [==============================] - 1611s 804ms/step - loss: -0.7507 - accuracy: 0.9546 - jacard_coef: 0.7507 - val_loss: -0.7165 - val_accuracy: 0.9472 - val_jacard_coef: 0.7165\n",
      "Epoch 15/15\n",
      "2003/2003 [==============================] - 1650s 824ms/step - loss: -0.7569 - accuracy: 0.9559 - jacard_coef: 0.7569 - val_loss: -0.7174 - val_accuracy: 0.9464 - val_jacard_coef: 0.7174\n"
     ]
    }
   ],
   "source": [
    "epochs = 15\n",
    "model_history = model.fit(train_gen, epochs=epochs, validation_data=val_gen, callbacks=callbacks)"
   ]
  },
  {
   "cell_type": "code",
   "execution_count": 22,
   "id": "fb481dbe",
   "metadata": {
    "execution": {
     "iopub.execute_input": "2022-06-18T16:29:21.657657Z",
     "iopub.status.busy": "2022-06-18T16:29:21.656886Z",
     "iopub.status.idle": "2022-06-18T16:29:21.665748Z",
     "shell.execute_reply": "2022-06-18T16:29:21.664903Z"
    },
    "papermill": {
     "duration": 2.0297,
     "end_time": "2022-06-18T16:29:21.668251",
     "exception": false,
     "start_time": "2022-06-18T16:29:19.638551",
     "status": "completed"
    },
    "tags": []
   },
   "outputs": [
    {
     "data": {
      "text/plain": [
       "\"\\nimport tensorflow as tf\\nfrom keras.layers import *\\n\\n\\nmodel = Sequential()\\n\\nmodel.add(Lambda(lambda x: x / 255))\\nmodel.add(Conv2D(32, (3, 3), activation='relu', kernel_initializer='he_normal', padding='same', input_shape=(256, 256, 3)))\\nmodel.add(Dropout(0.1))\\nmodel.add(Conv2D(32, (3, 3), activation='relu', kernel_initializer='he_normal', padding='same'))\\nmodel.add(BatchNormalization())\\n\\n#model.add(Conv2D(32, (3, 3), activation='relu', kernel_initializer='he_normal', padding='same', ))\\n#model.add(Dropout(0.1))\\n#model.add(Conv2D(32, (3, 3), activation='relu', kernel_initializer='he_normal', padding='same'))\\n#model.add(BatchNormalization())\\n\\nmodel.add(Conv2D(64, (3, 3), activation='relu', kernel_initializer='he_normal', padding='same', ))\\nmodel.add(Dropout(0.1))\\nmodel.add(Conv2D(64, (3, 3), activation='relu', kernel_initializer='he_normal', padding='same'))\\nmodel.add(BatchNormalization())\\n \\nmodel.add(Conv2D(128, (3, 3), activation='relu', kernel_initializer='he_normal', padding='same', ))\\nmodel.add(Dropout(0.1))\\nmodel.add(Conv2D(128, (3, 3), activation='relu', kernel_initializer='he_normal', padding='same'))\\nmodel.add(BatchNormalization())\\n\\nmodel.add(Conv2D(256, (3, 3), activation='relu', kernel_initializer='he_normal', padding='same', ))\\nmodel.add(Dropout(0.1))\\nmodel.add(Conv2D(256, (3, 3), activation='relu', kernel_initializer='he_normal', padding='same'))\\nmodel.add(BatchNormalization())\\n\\nmodel.add(Conv2D(128, (3, 3), activation='relu', kernel_initializer='he_normal', padding='same', ))\\nmodel.add(Dropout(0.1))\\nmodel.add(Conv2D(128, (3, 3), activation='relu', kernel_initializer='he_normal', padding='same'))\\nmodel.add(BatchNormalization())\\n\\nmodel.add(Conv2D(64, (3, 3), activation='relu', kernel_initializer='he_normal', padding='same', ))\\nmodel.add(Dropout(0.1))\\nmodel.add(Conv2D(64, (3, 3), activation='relu', kernel_initializer='he_normal', padding='same'))\\nmodel.add(BatchNormalization())\\n\\nmodel.add(Conv2D(32, (3, 3), activation='relu', kernel_initializer='he_normal', padding='same', ))\\nmodel.add(Dropout(0.1))\\nmodel.add(Conv2D(32, (3, 3), activation='relu', kernel_initializer='he_normal', padding='same'))\\nmodel.add(BatchNormalization())\\n\\n\\nmodel.add(Conv2D(1, (1,1), activation = 'sigmoid'))\\n\\n#model.compile(loss = 'binary_crossentropy', metrics = 'accuracy')\\n#model.compile(loss = 'binary_crossentropy', metrics = [tf.keras.metrics.IoU(num_classes=1)])\\nmodel.compile(optimizer='adam',loss = [jacard_coef_loss], metrics = [jacard_coef,'accuracy'])\\n\""
      ]
     },
     "execution_count": 22,
     "metadata": {},
     "output_type": "execute_result"
    }
   ],
   "source": [
    "\"\"\"\n",
    "import tensorflow as tf\n",
    "from keras.layers import *\n",
    "\n",
    "\n",
    "model = Sequential()\n",
    "\n",
    "model.add(Lambda(lambda x: x / 255))\n",
    "model.add(Conv2D(32, (3, 3), activation='relu', kernel_initializer='he_normal', padding='same', input_shape=(256, 256, 3)))\n",
    "model.add(Dropout(0.1))\n",
    "model.add(Conv2D(32, (3, 3), activation='relu', kernel_initializer='he_normal', padding='same'))\n",
    "model.add(BatchNormalization())\n",
    "\n",
    "#model.add(Conv2D(32, (3, 3), activation='relu', kernel_initializer='he_normal', padding='same', ))\n",
    "#model.add(Dropout(0.1))\n",
    "#model.add(Conv2D(32, (3, 3), activation='relu', kernel_initializer='he_normal', padding='same'))\n",
    "#model.add(BatchNormalization())\n",
    "\n",
    "model.add(Conv2D(64, (3, 3), activation='relu', kernel_initializer='he_normal', padding='same', ))\n",
    "model.add(Dropout(0.1))\n",
    "model.add(Conv2D(64, (3, 3), activation='relu', kernel_initializer='he_normal', padding='same'))\n",
    "model.add(BatchNormalization())\n",
    " \n",
    "model.add(Conv2D(128, (3, 3), activation='relu', kernel_initializer='he_normal', padding='same', ))\n",
    "model.add(Dropout(0.1))\n",
    "model.add(Conv2D(128, (3, 3), activation='relu', kernel_initializer='he_normal', padding='same'))\n",
    "model.add(BatchNormalization())\n",
    "\n",
    "model.add(Conv2D(256, (3, 3), activation='relu', kernel_initializer='he_normal', padding='same', ))\n",
    "model.add(Dropout(0.1))\n",
    "model.add(Conv2D(256, (3, 3), activation='relu', kernel_initializer='he_normal', padding='same'))\n",
    "model.add(BatchNormalization())\n",
    "\n",
    "model.add(Conv2D(128, (3, 3), activation='relu', kernel_initializer='he_normal', padding='same', ))\n",
    "model.add(Dropout(0.1))\n",
    "model.add(Conv2D(128, (3, 3), activation='relu', kernel_initializer='he_normal', padding='same'))\n",
    "model.add(BatchNormalization())\n",
    "\n",
    "model.add(Conv2D(64, (3, 3), activation='relu', kernel_initializer='he_normal', padding='same', ))\n",
    "model.add(Dropout(0.1))\n",
    "model.add(Conv2D(64, (3, 3), activation='relu', kernel_initializer='he_normal', padding='same'))\n",
    "model.add(BatchNormalization())\n",
    "\n",
    "model.add(Conv2D(32, (3, 3), activation='relu', kernel_initializer='he_normal', padding='same', ))\n",
    "model.add(Dropout(0.1))\n",
    "model.add(Conv2D(32, (3, 3), activation='relu', kernel_initializer='he_normal', padding='same'))\n",
    "model.add(BatchNormalization())\n",
    "\n",
    "\n",
    "model.add(Conv2D(1, (1,1), activation = 'sigmoid'))\n",
    "\n",
    "#model.compile(loss = 'binary_crossentropy', metrics = 'accuracy')\n",
    "#model.compile(loss = 'binary_crossentropy', metrics = [tf.keras.metrics.IoU(num_classes=1)])\n",
    "model.compile(optimizer='adam',loss = [jacard_coef_loss], metrics = [jacard_coef,'accuracy'])\n",
    "\"\"\""
   ]
  },
  {
   "cell_type": "code",
   "execution_count": 23,
   "id": "67c2f95a",
   "metadata": {
    "execution": {
     "iopub.execute_input": "2022-06-18T16:29:26.081797Z",
     "iopub.status.busy": "2022-06-18T16:29:26.081268Z",
     "iopub.status.idle": "2022-06-18T16:29:26.085761Z",
     "shell.execute_reply": "2022-06-18T16:29:26.084906Z"
    },
    "papermill": {
     "duration": 2.303314,
     "end_time": "2022-06-18T16:29:26.089036",
     "exception": false,
     "start_time": "2022-06-18T16:29:23.785722",
     "status": "completed"
    },
    "tags": []
   },
   "outputs": [],
   "source": [
    "#import keras\n",
    "#model = keras.models.load_model('../input/best-model-coco/model_jacard_05446',custom_objects={'jacard_coef':jacard_coef,'jacard_coef_loss':jacard_coef_loss})"
   ]
  },
  {
   "cell_type": "code",
   "execution_count": 24,
   "id": "72f18f61",
   "metadata": {
    "execution": {
     "iopub.execute_input": "2022-06-18T16:29:30.360835Z",
     "iopub.status.busy": "2022-06-18T16:29:30.359917Z",
     "iopub.status.idle": "2022-06-18T16:29:30.364286Z",
     "shell.execute_reply": "2022-06-18T16:29:30.363473Z"
    },
    "papermill": {
     "duration": 2.176471,
     "end_time": "2022-06-18T16:29:30.366164",
     "exception": false,
     "start_time": "2022-06-18T16:29:28.189693",
     "status": "completed"
    },
    "tags": []
   },
   "outputs": [],
   "source": [
    "#checkpoint = ModelCheckpoint(\"./\", monitor='val_jacard_coef', verbose=1, save_best_only=True, mode='max')"
   ]
  },
  {
   "cell_type": "code",
   "execution_count": 25,
   "id": "3e013f76",
   "metadata": {
    "execution": {
     "iopub.execute_input": "2022-06-18T16:29:34.670212Z",
     "iopub.status.busy": "2022-06-18T16:29:34.669818Z",
     "iopub.status.idle": "2022-06-18T16:29:34.676891Z",
     "shell.execute_reply": "2022-06-18T16:29:34.675754Z"
    },
    "papermill": {
     "duration": 2.1875,
     "end_time": "2022-06-18T16:29:34.680238",
     "exception": false,
     "start_time": "2022-06-18T16:29:32.492738",
     "status": "completed"
    },
    "tags": []
   },
   "outputs": [
    {
     "data": {
      "text/plain": [
       "'\\nbatch_size = 16\\nmodel.fit_generator(dataGenerator(catIds_train,imgIds_train,coco_train,batch_size,img_path_train),\\n              steps_per_epoch=25,\\n              epochs=5000,\\n              verbose=1,\\n              callbacks=[checkpoint],\\n              validation_data=dataGenerator(catIds_val,imgIds_val,coco_val,batch_size,img_path_val),\\n              validation_steps=32,\\n              class_weight=None,\\n              max_queue_size=10,\\n              workers=1,\\n              use_multiprocessing=False,\\n              shuffle=True\\n              #initial_epoch=0\\n              )\\n'"
      ]
     },
     "execution_count": 25,
     "metadata": {},
     "output_type": "execute_result"
    }
   ],
   "source": [
    "\"\"\"\n",
    "batch_size = 16\n",
    "model.fit_generator(dataGenerator(catIds_train,imgIds_train,coco_train,batch_size,img_path_train),\n",
    "              steps_per_epoch=25,\n",
    "              epochs=5000,\n",
    "              verbose=1,\n",
    "              callbacks=[checkpoint],\n",
    "              validation_data=dataGenerator(catIds_val,imgIds_val,coco_val,batch_size,img_path_val),\n",
    "              validation_steps=32,\n",
    "              class_weight=None,\n",
    "              max_queue_size=10,\n",
    "              workers=1,\n",
    "              use_multiprocessing=False,\n",
    "              shuffle=True\n",
    "              #initial_epoch=0\n",
    "              )\n",
    "\"\"\""
   ]
  },
  {
   "cell_type": "code",
   "execution_count": 26,
   "id": "5fc5c061",
   "metadata": {
    "execution": {
     "iopub.execute_input": "2022-06-18T16:29:39.144394Z",
     "iopub.status.busy": "2022-06-18T16:29:39.144012Z",
     "iopub.status.idle": "2022-06-18T16:29:39.151502Z",
     "shell.execute_reply": "2022-06-18T16:29:39.150620Z"
    },
    "papermill": {
     "duration": 2.177484,
     "end_time": "2022-06-18T16:29:39.153495",
     "exception": false,
     "start_time": "2022-06-18T16:29:36.976011",
     "status": "completed"
    },
    "tags": []
   },
   "outputs": [],
   "source": [
    "def dataGenerator_test(batchSize,path_images):\n",
    "    while True:\n",
    "        imgs_arr = np.zeros((batchSize, 256, 256, 3), dtype = np.float32)\n",
    "        image_list = os.listdir(path_images)\n",
    "        for i in range(batchSize):\n",
    "            image_name = random.choice(image_list)\n",
    "            img = load_img(os.path.join(path_images,image_name), target_size = (256, 256, 3))\n",
    "            imgs_arr[i] = img\n",
    "        yield imgs_arr"
   ]
  },
  {
   "cell_type": "code",
   "execution_count": 27,
   "id": "d274dfbd",
   "metadata": {
    "execution": {
     "iopub.execute_input": "2022-06-18T16:29:43.908187Z",
     "iopub.status.busy": "2022-06-18T16:29:43.907778Z",
     "iopub.status.idle": "2022-06-18T16:29:43.914261Z",
     "shell.execute_reply": "2022-06-18T16:29:43.913177Z"
    },
    "papermill": {
     "duration": 2.008815,
     "end_time": "2022-06-18T16:29:43.916294",
     "exception": false,
     "start_time": "2022-06-18T16:29:41.907479",
     "status": "completed"
    },
    "tags": []
   },
   "outputs": [],
   "source": [
    "def single_image(path):\n",
    "    imgs_arr = np.zeros((1, 256, 256, 3), dtype = np.float32)\n",
    "    img = load_img(path, target_size = (256, 256, 3))\n",
    "    imgs_arr[0] = img\n",
    "    return imgs_arr"
   ]
  },
  {
   "cell_type": "code",
   "execution_count": 28,
   "id": "31f2c145",
   "metadata": {
    "execution": {
     "iopub.execute_input": "2022-06-18T16:29:48.452698Z",
     "iopub.status.busy": "2022-06-18T16:29:48.452324Z",
     "iopub.status.idle": "2022-06-18T16:29:48.456326Z",
     "shell.execute_reply": "2022-06-18T16:29:48.455503Z"
    },
    "papermill": {
     "duration": 2.266074,
     "end_time": "2022-06-18T16:29:48.458544",
     "exception": false,
     "start_time": "2022-06-18T16:29:46.192470",
     "status": "completed"
    },
    "tags": []
   },
   "outputs": [],
   "source": [
    "#import keras\n",
    "#model = tf.keras.models.load_model('../input/model_epoch_14',custom_objects={'jacard_coef':jacard_coef,'jacard_coef_loss':jacard_coef_loss})"
   ]
  },
  {
   "cell_type": "code",
   "execution_count": 29,
   "id": "53482489",
   "metadata": {
    "execution": {
     "iopub.execute_input": "2022-06-18T16:29:52.613161Z",
     "iopub.status.busy": "2022-06-18T16:29:52.612643Z",
     "iopub.status.idle": "2022-06-18T16:29:52.617019Z",
     "shell.execute_reply": "2022-06-18T16:29:52.616184Z"
    },
    "papermill": {
     "duration": 2.145986,
     "end_time": "2022-06-18T16:29:52.618831",
     "exception": false,
     "start_time": "2022-06-18T16:29:50.472845",
     "status": "completed"
    },
    "tags": []
   },
   "outputs": [],
   "source": [
    "#path_images = '../input/coco-2017-dataset/coco2017/test2017'\n",
    "#for x in dataGenerator_test(16,path_images):\n",
    "#    break"
   ]
  },
  {
   "cell_type": "code",
   "execution_count": 30,
   "id": "a6ba72e6",
   "metadata": {
    "execution": {
     "iopub.execute_input": "2022-06-18T16:29:56.780560Z",
     "iopub.status.busy": "2022-06-18T16:29:56.780188Z",
     "iopub.status.idle": "2022-06-18T16:29:56.822079Z",
     "shell.execute_reply": "2022-06-18T16:29:56.821159Z"
    },
    "papermill": {
     "duration": 2.038516,
     "end_time": "2022-06-18T16:29:56.824445",
     "exception": false,
     "start_time": "2022-06-18T16:29:54.785929",
     "status": "completed"
    },
    "tags": []
   },
   "outputs": [],
   "source": [
    "x = single_image('../input/kostya/kostya.jpeg')"
   ]
  },
  {
   "cell_type": "code",
   "execution_count": 31,
   "id": "2137a5b9",
   "metadata": {
    "execution": {
     "iopub.execute_input": "2022-06-18T16:30:01.380284Z",
     "iopub.status.busy": "2022-06-18T16:30:01.379257Z",
     "iopub.status.idle": "2022-06-18T16:30:01.383851Z",
     "shell.execute_reply": "2022-06-18T16:30:01.383067Z"
    },
    "papermill": {
     "duration": 2.171612,
     "end_time": "2022-06-18T16:30:01.385885",
     "exception": false,
     "start_time": "2022-06-18T16:29:59.214273",
     "status": "completed"
    },
    "tags": []
   },
   "outputs": [],
   "source": [
    "img_index = 0"
   ]
  },
  {
   "cell_type": "code",
   "execution_count": 32,
   "id": "5cbd64ad",
   "metadata": {
    "execution": {
     "iopub.execute_input": "2022-06-18T16:30:05.577528Z",
     "iopub.status.busy": "2022-06-18T16:30:05.577067Z",
     "iopub.status.idle": "2022-06-18T16:30:06.679968Z",
     "shell.execute_reply": "2022-06-18T16:30:06.679026Z"
    },
    "papermill": {
     "duration": 3.273032,
     "end_time": "2022-06-18T16:30:06.682308",
     "exception": false,
     "start_time": "2022-06-18T16:30:03.409276",
     "status": "completed"
    },
    "tags": []
   },
   "outputs": [],
   "source": [
    "pred = model.predict(x[img_index].reshape((1, 256, 256,3)))"
   ]
  },
  {
   "cell_type": "code",
   "execution_count": 33,
   "id": "764cee81",
   "metadata": {
    "execution": {
     "iopub.execute_input": "2022-06-18T16:30:11.126654Z",
     "iopub.status.busy": "2022-06-18T16:30:11.126211Z",
     "iopub.status.idle": "2022-06-18T16:30:11.150323Z",
     "shell.execute_reply": "2022-06-18T16:30:11.149146Z"
    },
    "papermill": {
     "duration": 2.05659,
     "end_time": "2022-06-18T16:30:11.152798",
     "exception": false,
     "start_time": "2022-06-18T16:30:09.096208",
     "status": "completed"
    },
    "tags": []
   },
   "outputs": [
    {
     "data": {
      "text/plain": [
       "<matplotlib.image.AxesImage at 0x7f52599959d0>"
      ]
     },
     "execution_count": 33,
     "metadata": {},
     "output_type": "execute_result"
    }
   ],
   "source": [
    "plt.imshow(array_to_img(x[img_index]))"
   ]
  },
  {
   "cell_type": "code",
   "execution_count": 34,
   "id": "a16e6bd8",
   "metadata": {
    "execution": {
     "iopub.execute_input": "2022-06-18T16:30:15.904218Z",
     "iopub.status.busy": "2022-06-18T16:30:15.903790Z",
     "iopub.status.idle": "2022-06-18T16:30:15.914215Z",
     "shell.execute_reply": "2022-06-18T16:30:15.913327Z"
    },
    "papermill": {
     "duration": 2.024494,
     "end_time": "2022-06-18T16:30:15.916295",
     "exception": false,
     "start_time": "2022-06-18T16:30:13.891801",
     "status": "completed"
    },
    "tags": []
   },
   "outputs": [
    {
     "data": {
      "text/plain": [
       "<matplotlib.image.AxesImage at 0x7f525ad24590>"
      ]
     },
     "execution_count": 34,
     "metadata": {},
     "output_type": "execute_result"
    }
   ],
   "source": [
    "plt.imshow(array_to_img(pred.reshape((256, 256, 1))))"
   ]
  },
  {
   "cell_type": "code",
   "execution_count": null,
   "id": "72345cb3",
   "metadata": {
    "papermill": {
     "duration": 2.423218,
     "end_time": "2022-06-18T16:30:20.506361",
     "exception": false,
     "start_time": "2022-06-18T16:30:18.083143",
     "status": "completed"
    },
    "tags": []
   },
   "outputs": [],
   "source": []
  },
  {
   "cell_type": "code",
   "execution_count": null,
   "id": "be9be0d1",
   "metadata": {
    "papermill": {
     "duration": 2.15411,
     "end_time": "2022-06-18T16:30:24.694846",
     "exception": false,
     "start_time": "2022-06-18T16:30:22.540736",
     "status": "completed"
    },
    "tags": []
   },
   "outputs": [],
   "source": []
  },
  {
   "cell_type": "code",
   "execution_count": null,
   "id": "2a2956eb",
   "metadata": {
    "papermill": {
     "duration": 2.146531,
     "end_time": "2022-06-18T16:30:28.857609",
     "exception": false,
     "start_time": "2022-06-18T16:30:26.711078",
     "status": "completed"
    },
    "tags": []
   },
   "outputs": [],
   "source": []
  }
 ],
 "metadata": {
  "kernelspec": {
   "display_name": "Python 3",
   "language": "python",
   "name": "python3"
  },
  "language_info": {
   "codemirror_mode": {
    "name": "ipython",
    "version": 3
   },
   "file_extension": ".py",
   "mimetype": "text/x-python",
   "name": "python",
   "nbconvert_exporter": "python",
   "pygments_lexer": "ipython3",
   "version": "3.7.12"
  },
  "papermill": {
   "default_parameters": {},
   "duration": 24180.844934,
   "end_time": "2022-06-18T16:30:34.377996",
   "environment_variables": {},
   "exception": null,
   "input_path": "__notebook__.ipynb",
   "output_path": "__notebook__.ipynb",
   "parameters": {},
   "start_time": "2022-06-18T09:47:33.533062",
   "version": "2.3.4"
  }
 },
 "nbformat": 4,
 "nbformat_minor": 5
}

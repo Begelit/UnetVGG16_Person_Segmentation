{
 "cells": [
  {
   "cell_type": "code",
   "execution_count": 1,
   "id": "94fe4af2",
   "metadata": {
    "execution": {
     "iopub.execute_input": "2022-06-21T17:51:04.426599Z",
     "iopub.status.busy": "2022-06-21T17:51:04.425608Z",
     "iopub.status.idle": "2022-06-21T17:51:04.617717Z",
     "shell.execute_reply": "2022-06-21T17:51:04.616735Z"
    },
    "papermill": {
     "duration": 0.200432,
     "end_time": "2022-06-21T17:51:04.620466",
     "exception": false,
     "start_time": "2022-06-21T17:51:04.420034",
     "status": "completed"
    },
    "tags": []
   },
   "outputs": [],
   "source": [
    "import cv2\n",
    "import numpy as np\n",
    "import os\n",
    "from PIL import Image"
   ]
  },
  {
   "cell_type": "code",
   "execution_count": 2,
   "id": "ed598110",
   "metadata": {
    "execution": {
     "iopub.execute_input": "2022-06-21T17:51:04.627818Z",
     "iopub.status.busy": "2022-06-21T17:51:04.627421Z",
     "iopub.status.idle": "2022-06-21T17:51:04.676530Z",
     "shell.execute_reply": "2022-06-21T17:51:04.675614Z"
    },
    "papermill": {
     "duration": 0.055641,
     "end_time": "2022-06-21T17:51:04.679155",
     "exception": false,
     "start_time": "2022-06-21T17:51:04.623514",
     "status": "completed"
    },
    "tags": []
   },
   "outputs": [],
   "source": [
    "#fourcc = cv2.VideoWriter_fourcc('M','P','4','V')#cv2.VideoWriter_fourcc(*'MP4V')\n",
    "video = cv2.VideoWriter('./collag_video.mp4', cv2.VideoWriter_fourcc(*'mp4v'), 30, (256, 768))"
   ]
  },
  {
   "cell_type": "code",
   "execution_count": 3,
   "id": "9709f8e6",
   "metadata": {
    "execution": {
     "iopub.execute_input": "2022-06-21T17:51:04.686776Z",
     "iopub.status.busy": "2022-06-21T17:51:04.685984Z",
     "iopub.status.idle": "2022-06-21T17:51:05.784108Z",
     "shell.execute_reply": "2022-06-21T17:51:05.783117Z"
    },
    "papermill": {
     "duration": 1.105002,
     "end_time": "2022-06-21T17:51:05.786999",
     "exception": false,
     "start_time": "2022-06-21T17:51:04.681997",
     "status": "completed"
    },
    "tags": []
   },
   "outputs": [],
   "source": [
    "#for _ in range(5):\n",
    "for index in range(0,len(os.listdir('../input/collages-me-unetsegm/collages'))):\n",
    "    img = cv2.imread('../input/collages-me-unetsegm/collages/{}.jpg'.format(str(index)))\n",
    "    video.write(img)\n",
    "        #print(img.shape)"
   ]
  },
  {
   "cell_type": "code",
   "execution_count": 4,
   "id": "2ec51ba1",
   "metadata": {
    "execution": {
     "iopub.execute_input": "2022-06-21T17:51:05.794053Z",
     "iopub.status.busy": "2022-06-21T17:51:05.793704Z",
     "iopub.status.idle": "2022-06-21T17:51:05.800122Z",
     "shell.execute_reply": "2022-06-21T17:51:05.799115Z"
    },
    "papermill": {
     "duration": 0.012434,
     "end_time": "2022-06-21T17:51:05.802338",
     "exception": false,
     "start_time": "2022-06-21T17:51:05.789904",
     "status": "completed"
    },
    "tags": []
   },
   "outputs": [],
   "source": [
    "video.release()"
   ]
  },
  {
   "cell_type": "code",
   "execution_count": 5,
   "id": "add87c0c",
   "metadata": {
    "execution": {
     "iopub.execute_input": "2022-06-21T17:51:05.809883Z",
     "iopub.status.busy": "2022-06-21T17:51:05.808899Z",
     "iopub.status.idle": "2022-06-21T17:51:05.814436Z",
     "shell.execute_reply": "2022-06-21T17:51:05.813729Z"
    },
    "papermill": {
     "duration": 0.01108,
     "end_time": "2022-06-21T17:51:05.816336",
     "exception": false,
     "start_time": "2022-06-21T17:51:05.805256",
     "status": "completed"
    },
    "tags": []
   },
   "outputs": [],
   "source": [
    "cort_imgs = (Image.open('../input/collages-me-unetsegm/collages/{}.jpg'.format(str(index)))\n",
    "             for index in range(0,len(os.listdir('../input/collages-me-unetsegm/collages'))))\n",
    "#cv2.imread('../input/collages-me-unetsegm/collages/{}.jpg'.format(str(index)))"
   ]
  },
  {
   "cell_type": "code",
   "execution_count": 6,
   "id": "c9e4b481",
   "metadata": {
    "execution": {
     "iopub.execute_input": "2022-06-21T17:51:05.824603Z",
     "iopub.status.busy": "2022-06-21T17:51:05.822684Z",
     "iopub.status.idle": "2022-06-21T17:51:13.587630Z",
     "shell.execute_reply": "2022-06-21T17:51:13.586487Z"
    },
    "papermill": {
     "duration": 7.771655,
     "end_time": "2022-06-21T17:51:13.590770",
     "exception": false,
     "start_time": "2022-06-21T17:51:05.819115",
     "status": "completed"
    },
    "tags": []
   },
   "outputs": [],
   "source": [
    "img = next(cort_imgs)\n",
    "img.save(fp='./collage_gif.gif', format='GIF', append_images=cort_imgs,\n",
    "         save_all=True, duration=40, loop=0)"
   ]
  },
  {
   "cell_type": "code",
   "execution_count": null,
   "id": "9781e8fd",
   "metadata": {
    "papermill": {
     "duration": 0.002422,
     "end_time": "2022-06-21T17:51:13.596062",
     "exception": false,
     "start_time": "2022-06-21T17:51:13.593640",
     "status": "completed"
    },
    "tags": []
   },
   "outputs": [],
   "source": []
  }
 ],
 "metadata": {
  "kernelspec": {
   "display_name": "Python 3",
   "language": "python",
   "name": "python3"
  },
  "language_info": {
   "codemirror_mode": {
    "name": "ipython",
    "version": 3
   },
   "file_extension": ".py",
   "mimetype": "text/x-python",
   "name": "python",
   "nbconvert_exporter": "python",
   "pygments_lexer": "ipython3",
   "version": "3.7.12"
  },
  "papermill": {
   "default_parameters": {},
   "duration": 19.953781,
   "end_time": "2022-06-21T17:51:14.220113",
   "environment_variables": {},
   "exception": null,
   "input_path": "__notebook__.ipynb",
   "output_path": "__notebook__.ipynb",
   "parameters": {},
   "start_time": "2022-06-21T17:50:54.266332",
   "version": "2.3.4"
  }
 },
 "nbformat": 4,
 "nbformat_minor": 5
}

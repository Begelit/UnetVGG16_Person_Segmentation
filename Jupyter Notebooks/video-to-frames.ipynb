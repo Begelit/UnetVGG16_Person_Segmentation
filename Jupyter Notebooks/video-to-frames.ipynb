{
 "cells": [
  {
   "cell_type": "code",
   "execution_count": 1,
   "id": "99b24cdd",
   "metadata": {
    "execution": {
     "iopub.execute_input": "2022-06-19T12:14:30.011533Z",
     "iopub.status.busy": "2022-06-19T12:14:30.010630Z",
     "iopub.status.idle": "2022-06-19T12:14:30.210902Z",
     "shell.execute_reply": "2022-06-19T12:14:30.210023Z"
    },
    "papermill": {
     "duration": 0.207514,
     "end_time": "2022-06-19T12:14:30.213399",
     "exception": false,
     "start_time": "2022-06-19T12:14:30.005885",
     "status": "completed"
    },
    "tags": []
   },
   "outputs": [],
   "source": [
    "import cv2\n",
    "import glob\n",
    "import os\n",
    "import re\n",
    "from datetime import datetime"
   ]
  },
  {
   "cell_type": "code",
   "execution_count": 2,
   "id": "2218a8aa",
   "metadata": {
    "execution": {
     "iopub.execute_input": "2022-06-19T12:14:30.219800Z",
     "iopub.status.busy": "2022-06-19T12:14:30.219196Z",
     "iopub.status.idle": "2022-06-19T12:14:30.225429Z",
     "shell.execute_reply": "2022-06-19T12:14:30.224771Z"
    },
    "papermill": {
     "duration": 0.011298,
     "end_time": "2022-06-19T12:14:30.227274",
     "exception": false,
     "start_time": "2022-06-19T12:14:30.215976",
     "status": "completed"
    },
    "tags": []
   },
   "outputs": [],
   "source": [
    "def video_to_frames(path):\n",
    "     videoCapture = cv2.VideoCapture()\n",
    "     videoCapture.open(path)\n",
    "     fps = videoCapture.get(cv2.CAP_PROP_FPS) \n",
    "     frames = videoCapture.get(cv2.CAP_PROP_FRAME_COUNT)\n",
    "     print(\"fps=\", int(fps), \"frames=\", int(frames))\n",
    "     for i in range(int(frames)):\n",
    "          ret, frame = videoCapture.read()\n",
    "          cv2.imwrite(\"./frames/%d.jpg\"%(i), frame)"
   ]
  },
  {
   "cell_type": "code",
   "execution_count": 3,
   "id": "beb18c55",
   "metadata": {
    "execution": {
     "iopub.execute_input": "2022-06-19T12:14:30.233661Z",
     "iopub.status.busy": "2022-06-19T12:14:30.232848Z",
     "iopub.status.idle": "2022-06-19T12:14:33.099984Z",
     "shell.execute_reply": "2022-06-19T12:14:33.099251Z"
    },
    "papermill": {
     "duration": 2.87315,
     "end_time": "2022-06-19T12:14:33.102673",
     "exception": false,
     "start_time": "2022-06-19T12:14:30.229523",
     "status": "completed"
    },
    "tags": []
   },
   "outputs": [
    {
     "name": "stdout",
     "output_type": "stream",
     "text": [
      "fps= 30 frames= 149\n",
      "Time cost =  0:00:02.861618\n"
     ]
    }
   ],
   "source": [
    "if __name__ == '__main__':\n",
    "    os.mkdir('./frames')\n",
    "    t1 = datetime.now()\n",
    "    video_to_frames(\"../input/me-video/IMG_4334.MOV\")\n",
    "    t2 = datetime.now()\n",
    "    print(\"Time cost = \", (t2 - t1))\n",
    "    "
   ]
  },
  {
   "cell_type": "code",
   "execution_count": 4,
   "id": "cb3e761e",
   "metadata": {
    "execution": {
     "iopub.execute_input": "2022-06-19T12:14:33.109530Z",
     "iopub.status.busy": "2022-06-19T12:14:33.109175Z",
     "iopub.status.idle": "2022-06-19T12:14:34.381194Z",
     "shell.execute_reply": "2022-06-19T12:14:34.380037Z"
    },
    "papermill": {
     "duration": 1.277551,
     "end_time": "2022-06-19T12:14:34.383388",
     "exception": false,
     "start_time": "2022-06-19T12:14:33.105837",
     "status": "completed"
    },
    "tags": []
   },
   "outputs": [
    {
     "data": {
      "text/plain": [
       "['  adding: frames/ (stored 0%)',\n",
       " '  adding: frames/120.jpg (deflated 0%)',\n",
       " '  adding: frames/30.jpg (deflated 0%)',\n",
       " '  adding: frames/126.jpg (deflated 0%)',\n",
       " '  adding: frames/26.jpg (deflated 0%)',\n",
       " '  adding: frames/109.jpg (deflated 0%)',\n",
       " '  adding: frames/40.jpg (deflated 0%)',\n",
       " '  adding: frames/78.jpg (deflated 0%)',\n",
       " '  adding: frames/93.jpg (deflated 0%)',\n",
       " '  adding: frames/100.jpg (deflated 0%)',\n",
       " '  adding: frames/92.jpg (deflated 0%)',\n",
       " '  adding: frames/89.jpg (deflated 0%)',\n",
       " '  adding: frames/110.jpg (deflated 0%)',\n",
       " '  adding: frames/53.jpg (deflated 0%)',\n",
       " '  adding: frames/46.jpg (deflated 0%)',\n",
       " '  adding: frames/23.jpg (deflated 0%)',\n",
       " '  adding: frames/117.jpg (deflated 0%)',\n",
       " '  adding: frames/0.jpg (deflated 1%)',\n",
       " '  adding: frames/147.jpg (deflated 0%)',\n",
       " '  adding: frames/41.jpg (deflated 0%)',\n",
       " '  adding: frames/138.jpg (deflated 0%)',\n",
       " '  adding: frames/8.jpg (deflated 0%)',\n",
       " '  adding: frames/19.jpg (deflated 0%)',\n",
       " '  adding: frames/104.jpg (deflated 0%)',\n",
       " '  adding: frames/56.jpg (deflated 0%)',\n",
       " '  adding: frames/106.jpg (deflated 0%)',\n",
       " '  adding: frames/97.jpg (deflated 0%)',\n",
       " '  adding: frames/87.jpg (deflated 0%)',\n",
       " '  adding: frames/90.jpg (deflated 0%)',\n",
       " '  adding: frames/6.jpg (deflated 0%)',\n",
       " '  adding: frames/15.jpg (deflated 0%)',\n",
       " '  adding: frames/112.jpg (deflated 0%)',\n",
       " '  adding: frames/2.jpg (deflated 1%)',\n",
       " '  adding: frames/105.jpg (deflated 0%)',\n",
       " '  adding: frames/116.jpg (deflated 0%)',\n",
       " '  adding: frames/18.jpg (deflated 0%)',\n",
       " '  adding: frames/13.jpg (deflated 0%)',\n",
       " '  adding: frames/119.jpg (deflated 0%)',\n",
       " '  adding: frames/80.jpg (deflated 0%)',\n",
       " '  adding: frames/98.jpg (deflated 0%)',\n",
       " '  adding: frames/81.jpg (deflated 0%)',\n",
       " '  adding: frames/32.jpg (deflated 0%)',\n",
       " '  adding: frames/38.jpg (deflated 0%)',\n",
       " '  adding: frames/144.jpg (deflated 0%)',\n",
       " '  adding: frames/1.jpg (deflated 1%)',\n",
       " '  adding: frames/7.jpg (deflated 0%)',\n",
       " '  adding: frames/76.jpg (deflated 0%)',\n",
       " '  adding: frames/124.jpg (deflated 0%)',\n",
       " '  adding: frames/51.jpg (deflated 0%)',\n",
       " '  adding: frames/91.jpg (deflated 0%)',\n",
       " '  adding: frames/130.jpg (deflated 0%)',\n",
       " '  adding: frames/148.jpg (deflated 0%)',\n",
       " '  adding: frames/12.jpg (deflated 0%)',\n",
       " '  adding: frames/35.jpg (deflated 0%)',\n",
       " '  adding: frames/111.jpg (deflated 0%)',\n",
       " '  adding: frames/139.jpg (deflated 0%)',\n",
       " '  adding: frames/66.jpg (deflated 0%)',\n",
       " '  adding: frames/43.jpg (deflated 0%)',\n",
       " '  adding: frames/69.jpg (deflated 0%)',\n",
       " '  adding: frames/103.jpg (deflated 0%)',\n",
       " '  adding: frames/44.jpg (deflated 0%)',\n",
       " '  adding: frames/88.jpg (deflated 0%)',\n",
       " '  adding: frames/74.jpg (deflated 0%)',\n",
       " '  adding: frames/64.jpg (deflated 0%)',\n",
       " '  adding: frames/136.jpg (deflated 0%)',\n",
       " '  adding: frames/122.jpg (deflated 0%)',\n",
       " '  adding: frames/96.jpg (deflated 0%)',\n",
       " '  adding: frames/71.jpg (deflated 0%)',\n",
       " '  adding: frames/29.jpg (deflated 0%)',\n",
       " '  adding: frames/68.jpg (deflated 0%)',\n",
       " '  adding: frames/145.jpg (deflated 0%)',\n",
       " '  adding: frames/77.jpg (deflated 0%)',\n",
       " '  adding: frames/9.jpg (deflated 0%)',\n",
       " '  adding: frames/14.jpg (deflated 0%)',\n",
       " '  adding: frames/21.jpg (deflated 0%)',\n",
       " '  adding: frames/83.jpg (deflated 0%)',\n",
       " '  adding: frames/102.jpg (deflated 0%)',\n",
       " '  adding: frames/86.jpg (deflated 0%)',\n",
       " '  adding: frames/57.jpg (deflated 0%)',\n",
       " '  adding: frames/73.jpg (deflated 0%)',\n",
       " '  adding: frames/31.jpg (deflated 0%)',\n",
       " '  adding: frames/67.jpg (deflated 0%)',\n",
       " '  adding: frames/132.jpg (deflated 0%)',\n",
       " '  adding: frames/16.jpg (deflated 0%)',\n",
       " '  adding: frames/55.jpg (deflated 0%)',\n",
       " '  adding: frames/94.jpg (deflated 0%)',\n",
       " '  adding: frames/114.jpg (deflated 0%)',\n",
       " '  adding: frames/62.jpg (deflated 0%)',\n",
       " '  adding: frames/134.jpg (deflated 0%)',\n",
       " '  adding: frames/128.jpg (deflated 0%)',\n",
       " '  adding: frames/59.jpg (deflated 0%)',\n",
       " '  adding: frames/135.jpg (deflated 0%)',\n",
       " '  adding: frames/84.jpg (deflated 0%)',\n",
       " '  adding: frames/49.jpg (deflated 0%)',\n",
       " '  adding: frames/115.jpg (deflated 0%)',\n",
       " '  adding: frames/60.jpg (deflated 0%)',\n",
       " '  adding: frames/63.jpg (deflated 0%)',\n",
       " '  adding: frames/85.jpg (deflated 0%)',\n",
       " '  adding: frames/50.jpg (deflated 0%)',\n",
       " '  adding: frames/5.jpg (deflated 0%)',\n",
       " '  adding: frames/72.jpg (deflated 0%)',\n",
       " '  adding: frames/99.jpg (deflated 0%)',\n",
       " '  adding: frames/121.jpg (deflated 0%)',\n",
       " '  adding: frames/36.jpg (deflated 0%)',\n",
       " '  adding: frames/61.jpg (deflated 0%)',\n",
       " '  adding: frames/34.jpg (deflated 0%)',\n",
       " '  adding: frames/17.jpg (deflated 0%)',\n",
       " '  adding: frames/37.jpg (deflated 0%)',\n",
       " '  adding: frames/4.jpg (deflated 1%)',\n",
       " '  adding: frames/39.jpg (deflated 0%)',\n",
       " '  adding: frames/101.jpg (deflated 0%)',\n",
       " '  adding: frames/24.jpg (deflated 0%)',\n",
       " '  adding: frames/137.jpg (deflated 0%)',\n",
       " '  adding: frames/28.jpg (deflated 0%)',\n",
       " '  adding: frames/75.jpg (deflated 0%)',\n",
       " '  adding: frames/33.jpg (deflated 0%)',\n",
       " '  adding: frames/11.jpg (deflated 0%)',\n",
       " '  adding: frames/146.jpg (deflated 0%)',\n",
       " '  adding: frames/58.jpg (deflated 0%)',\n",
       " '  adding: frames/65.jpg (deflated 0%)',\n",
       " '  adding: frames/47.jpg (deflated 0%)',\n",
       " '  adding: frames/48.jpg (deflated 0%)',\n",
       " '  adding: frames/108.jpg (deflated 0%)',\n",
       " '  adding: frames/141.jpg (deflated 0%)',\n",
       " '  adding: frames/22.jpg (deflated 0%)',\n",
       " '  adding: frames/70.jpg (deflated 0%)',\n",
       " '  adding: frames/143.jpg (deflated 0%)',\n",
       " '  adding: frames/82.jpg (deflated 0%)',\n",
       " '  adding: frames/107.jpg (deflated 0%)',\n",
       " '  adding: frames/20.jpg (deflated 0%)',\n",
       " '  adding: frames/95.jpg (deflated 0%)',\n",
       " '  adding: frames/79.jpg (deflated 0%)',\n",
       " '  adding: frames/42.jpg (deflated 0%)',\n",
       " '  adding: frames/133.jpg (deflated 0%)',\n",
       " '  adding: frames/27.jpg (deflated 0%)',\n",
       " '  adding: frames/140.jpg (deflated 0%)',\n",
       " '  adding: frames/118.jpg (deflated 0%)',\n",
       " '  adding: frames/25.jpg (deflated 0%)',\n",
       " '  adding: frames/45.jpg (deflated 0%)',\n",
       " '  adding: frames/54.jpg (deflated 0%)',\n",
       " '  adding: frames/52.jpg (deflated 0%)',\n",
       " '  adding: frames/129.jpg (deflated 0%)',\n",
       " '  adding: frames/131.jpg (deflated 0%)',\n",
       " '  adding: frames/123.jpg (deflated 0%)',\n",
       " '  adding: frames/142.jpg (deflated 0%)',\n",
       " '  adding: frames/113.jpg (deflated 0%)',\n",
       " '  adding: frames/125.jpg (deflated 0%)',\n",
       " '  adding: frames/127.jpg (deflated 0%)',\n",
       " '  adding: frames/3.jpg (deflated 1%)',\n",
       " '  adding: frames/10.jpg (deflated 0%)']"
      ]
     },
     "execution_count": 4,
     "metadata": {},
     "output_type": "execute_result"
    }
   ],
   "source": [
    "%%!\n",
    "zip -r frames.zip ./frames"
   ]
  },
  {
   "cell_type": "code",
   "execution_count": null,
   "id": "4c77cfc6",
   "metadata": {
    "papermill": {
     "duration": 0.002474,
     "end_time": "2022-06-19T12:14:34.388694",
     "exception": false,
     "start_time": "2022-06-19T12:14:34.386220",
     "status": "completed"
    },
    "tags": []
   },
   "outputs": [],
   "source": []
  }
 ],
 "metadata": {
  "kernelspec": {
   "display_name": "Python 3",
   "language": "python",
   "name": "python3"
  },
  "language_info": {
   "codemirror_mode": {
    "name": "ipython",
    "version": 3
   },
   "file_extension": ".py",
   "mimetype": "text/x-python",
   "name": "python",
   "nbconvert_exporter": "python",
   "pygments_lexer": "ipython3",
   "version": "3.7.12"
  },
  "papermill": {
   "default_parameters": {},
   "duration": 14.992374,
   "end_time": "2022-06-19T12:14:35.111976",
   "environment_variables": {},
   "exception": null,
   "input_path": "__notebook__.ipynb",
   "output_path": "__notebook__.ipynb",
   "parameters": {},
   "start_time": "2022-06-19T12:14:20.119602",
   "version": "2.3.4"
  }
 },
 "nbformat": 4,
 "nbformat_minor": 5
}
